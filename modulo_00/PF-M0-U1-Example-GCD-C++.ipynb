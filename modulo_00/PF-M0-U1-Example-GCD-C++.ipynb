{
 "cells": [
  {
   "cell_type": "markdown",
   "metadata": {},
   "source": [
    "# Implementación imperativa (Lenguaje C++)\n",
    "\n",
    "Vamos a mostrar la implementación en un lenguaje imperativo, en este caso el lenguaje de programación C++. Este es un lenguaje multiparadigma (estructurado, orientado a objetos y funcional). Vamos a dividir la implementación en dos partes, la primera parte es la implementación del algoritmo de Euclides y la segunda es el programa que obtiene la longitud de los segmentos.\n",
    "\n",
    "## Implementación del algoritmo de Euclides en C++\n",
    "    \n",
    "El siguiente es el código de la implementación de C++ del algoritmo de euclides (MCD-en Inglés gcd), con algunas optimizaciones para no utilizar la variable intermedia c."
   ]
  },
  {
   "cell_type": "code",
   "execution_count": 16,
   "metadata": {},
   "outputs": [],
   "source": [
    "int gcd(int a, int b) {\n",
    "    while (a != b)\n",
    "        if (a > b)\n",
    "            a = a - b;\n",
    "        else\n",
    "            b = b - a;\n",
    "    return a;\n",
    "}"
   ]
  },
  {
   "cell_type": "markdown",
   "metadata": {},
   "source": [
    "## Plan A\n",
    "### Preguntas y ejercicios\n",
    "1. Llene la siguiente tabla simulando una prueba de escritorio de la implementación del algoritmo utilizando la siguiente tabla:\n",
    "\n",
    "|  a  |  b  |\n",
    "| :-: | :-: |\n",
    "| 11  |  8  |\n",
    "|     |     |\n",
    "|     |     |\n",
    "|     |     |\n",
    "|     |     |\n",
    "\n",
    "2. Llene la siguiente tabla simulando una prueba de escritorio de la implementación del algoritmo utilizando la siguiente tabla:\n",
    "\n",
    "|  a  |  b  |\n",
    "| :-: | :-: |\n",
    "| 15  |  5  |\n",
    "|     |     |\n",
    "|     |     |\n",
    "|     |     |\n",
    "|     |     |\n",
    "\n",
    "\n",
    "3. ¿Que resultado queda en las variables de entrada si los valores son coprimos?\n",
    "4. Se había establecido que la precondición 0 < b < a para la versión original del algoritmo. Si los valores de entrada son: a=10, b=14. ¿El programa termina?\n",
    "5. ¿El programa podría retornar el valor de b? ¿Es válido para todos para todos los casos?\n",
    "6. Reescriba el anterior código utilizando la variable c. Nota: tenga en cuenta que en C++ los bloques de dos o más instrucciones deben estar dentro de llaves { }."
   ]
  },
  {
   "cell_type": "markdown",
   "metadata": {},
   "source": [
    "## Plan B\n",
    "### Preguntas y ejercicios\n",
    "1. Reemplace los valores iniciales de las variables a y b.\n",
    "    a. Por los valores a = 18 y b = 9.\n",
    "    b. Por los valores a = 18 y b = 6."
   ]
  },
  {
   "cell_type": "code",
   "execution_count": 17,
   "metadata": {},
   "outputs": [
    {
     "name": "stdout",
     "output_type": "stream",
     "text": [
      "El maximo comun divisor entre a=0 y b=0 es 0\n"
     ]
    }
   ],
   "source": [
    "#include <iostream>\n",
    "\n",
    "int a = 0;\n",
    "int b = 0;\n",
    "gcd(a,b);\n",
    "std::cout << \"El maximo comun divisor entre a=\" << a\n",
    "          << \" y b=\" << b << \" es \" << gcd(a,b) << std::endl;"
   ]
  },
  {
   "cell_type": "markdown",
   "metadata": {},
   "source": [
    "2. El siguiente código es otra versión de gcd, pero tiene un error corrigalo."
   ]
  },
  {
   "cell_type": "code",
   "execution_count": 18,
   "metadata": {},
   "outputs": [],
   "source": [
    "int gcd2(int a, int b) {\n",
    "    int c = a - b;\n",
    "    ciclo:\n",
    "    if (c == 1) return c;\n",
    "    if (c == b) return c;\n",
    "    if (c < b) {\n",
    "        a = b;\n",
    "        b = a;\n",
    "    }\n",
    "    else a = c;\n",
    "    goto ciclo;\n",
    "    return c;\n",
    "}"
   ]
  },
  {
   "cell_type": "markdown",
   "metadata": {},
   "source": [
    "3. Reescriba el siguiente código eliminando el goto"
   ]
  },
  {
   "cell_type": "code",
   "execution_count": 19,
   "metadata": {},
   "outputs": [],
   "source": [
    "int gcd3(int a, int b) {\n",
    "    int c = a - b;\n",
    "    ciclo:\n",
    "    if (c == 1) return c;\n",
    "    if (c == b) return c;\n",
    "    if (c < b) {\n",
    "        a = b;\n",
    "        b = a;\n",
    "    }\n",
    "    else a = c;\n",
    "    goto ciclo;\n",
    "    return c;\n",
    "}"
   ]
  },
  {
   "cell_type": "markdown",
   "metadata": {},
   "source": [
    "## Implementación del código principal del programa en C++\n",
    "La siguiente muestra de código en C++, nos muestra la implementación del cuerpo principal del programa, nos indica donde inicia main y cómo obtiene los valores e hace la invocación del algoritmo.\n"
   ]
  },
  {
   "cell_type": "code",
   "execution_count": 20,
   "metadata": {},
   "outputs": [],
   "source": [
    "int\n",
    "main(void) {\n",
    "   std::cout << \"Enter three integer values separated by spaces: \";\n",
    "   std::cout.flush();\n",
    "   int a, b, c;\n",
    "   std::cin >> a >> b >> c;\n",
    "   std::cout << \"The minimum size to cut is: \"\n",
    "             << gcd(gcd(a, b),c)\n",
    "             << std::endl;\n",
    "   return 0;\n",
    "}"
   ]
  },
  {
   "cell_type": "code",
   "execution_count": 4,
   "metadata": {},
   "outputs": [
    {
     "name": "stdout",
     "output_type": "stream",
     "text": [
      "Enter three integer values separated by spaces: 10 20 30\n",
      "The minimum size to cut is: 10\n"
     ]
    },
    {
     "data": {
      "text/plain": [
       "0"
      ]
     },
     "execution_count": 4,
     "metadata": {},
     "output_type": "execute_result"
    }
   ],
   "source": [
    "main()"
   ]
  },
  {
   "cell_type": "markdown",
   "metadata": {},
   "source": [
    "## Plan A. \n",
    "#### Preguntas y ejercicios\n",
    "\n",
    "1. La instrucción int a, b, c; es una declaración. ¿Al ser declarados, que valores iniciales tienen?\n",
    "    a. Hasta que los valores son leídos no tiene valores.\n",
    "    b. Todos son iniciados con cualquier valor diferente.\n",
    "    c. Todos son iniciados con el mismo valor diferente de cero.\n",
    "    d. Todos son iniciados con el mismo valor cero.\n",
    "2. Suponga que el programa anterior es modificado para leer cuatro segmentos: a, b, c y d. ¿Cómo se obtendría el valor que representa el tamaño que permita dividir los cuatro segmentos cada uno del mismo tamaño?"
   ]
  },
  {
   "cell_type": "markdown",
   "metadata": {},
   "source": [
    "## Plan B.\n",
    "### Preguntas y ejercicios\n",
    "\n",
    "1. Complete el pocedimiento ppal() que forma que lea los cuatro segmentos y encuentre el máximo común divisor entre ellos y permita dividir los segmentos en tamaños iguales."
   ]
  },
  {
   "cell_type": "code",
   "execution_count": 21,
   "metadata": {},
   "outputs": [],
   "source": [
    "void ppal(void) {\n",
    "   std::cout << \"Enter four integer values separated by spaces: \";\n",
    "   std::cout.flush();\n",
    "   int a, b, c;\n",
    "   std::cin >> a >> b >> c;\n",
    "   std::cout << \"The minimum size to cut is: \"\n",
    "             << gcd(gcd(a, b),c)\n",
    "             << std::endl;\n",
    "}"
   ]
  },
  {
   "cell_type": "code",
   "execution_count": 8,
   "metadata": {},
   "outputs": [
    {
     "name": "stdout",
     "output_type": "stream",
     "text": [
      "Enter four integer values separated by spaces: 35 30 25 20\n",
      "The minimum size to cut is: 5\n"
     ]
    }
   ],
   "source": [
    "ppal()"
   ]
  },
  {
   "cell_type": "markdown",
   "metadata": {},
   "source": [
    "2. El siguiente código segments es una versión para generalizar el problema de tres segmentos a n segmentos donde n > 1. Pero tiene un error, podría correguir el error de forma que éste proced para cualquier valor de n mayor de 1."
   ]
  },
  {
   "cell_type": "code",
   "execution_count": 26,
   "metadata": {},
   "outputs": [],
   "source": [
    "void segments(void) {\n",
    "    std::cout << \"Enter first segment: \";\n",
    "    std::cout.flush();\n",
    "    int seg;\n",
    "    std::cin >> seg;\n",
    "    int m = gcd(seg,seg);\n",
    "    do {\n",
    "        std::cout << \"Enter next segment (Enter a letter to end): \";\n",
    "        std::cout.flush();\n",
    "        std::cin >> seg;\n",
    "        if (!std::cin) break;\n",
    "        m = gcd(seg,seg);\n",
    "    } while (true);\n",
    "    std::cout << \"The minimum size to cut is: \"\n",
    "              << m\n",
    "              << std::endl;\n",
    "}"
   ]
  },
  {
   "cell_type": "code",
   "execution_count": 28,
   "metadata": {},
   "outputs": [
    {
     "name": "stdout",
     "output_type": "stream",
     "text": [
      "Enter first segment: 1\n",
      "Enter next segment (Enter a letter to end): 2\n",
      "Enter next segment (Enter a letter to end): 3\n",
      "Enter next segment (Enter a letter to end): 4\n",
      "Enter next segment (Enter a letter to end): 5\n",
      "Enter next segment (Enter a letter to end): a\n",
      "The minimum size to cut is: 5\n"
     ]
    }
   ],
   "source": [
    "segments()"
   ]
  }
 ],
 "metadata": {
  "kernelspec": {
   "display_name": "C++11",
   "language": "C++11",
   "name": "xcpp11"
  },
  "language_info": {
   "codemirror_mode": "text/x-c++src",
   "file_extension": ".cpp",
   "mimetype": "text/x-c++src",
   "name": "c++",
   "version": "11"
  }
 },
 "nbformat": 4,
 "nbformat_minor": 4
}
