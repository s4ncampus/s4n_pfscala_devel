{
 "cells": [
  {
   "cell_type": "markdown",
   "metadata": {},
   "source": [
    "# Implementación en el paradigma lógico (El lenguaje de programación Prolog)\n",
    "Prolog es un lenguaje de propósito general, basado en la lógica de primer orden, es una lógica formal y un lenguaje declarativo lógico. Como lo hemos venido haciendo con los otros paradigmas, vamos a dividir nuestra explicación en dos secciones: la primera para la implementación del algoritmo de Euclides en Prolog y la segunda el uso de dicha función en la solución del problema.\n",
    "## Implementación del algoritmo de Euclides en Prolog\n",
    "El siguiente segmento de código muestra la implementación. Como puede observar esta definición está basada en el algoritmo de Euclides recursivo."
   ]
  },
  {
   "cell_type": "code",
   "execution_count": 1,
   "metadata": {},
   "outputs": [
    {
     "name": "stdout",
     "output_type": "stream",
     "text": []
    }
   ],
   "source": [
    "gcd(A,B,G) :- A = B, G = A.\n",
    "gcd(A,B,G) :- A < B, B1 is B - A, gcd(A, B1, G).\n",
    "gcd(A,B,G) :- A > B, gcd(B, Y, G)."
   ]
  },
  {
   "cell_type": "markdown",
   "metadata": {},
   "source": [
    "Aunque luce muy similar al declaración de la función en el lenguaje de programación Haskell. Existen varias diferencias. En primer lugar, gcd no es una función, es realidad una cláusula que tiene como tres variables, donde A y B son las variables de los valores obtener su máximo común divisor; G es la variable que contendrá el resultado final. Cada cláusula tiene dos partes: la cabeza y el cuerpo (este último es opcional). La cabeza incluye el nombre de la cláusula y sus parámetros (si los tiene). El cuerpo tiene una lista de términos que pueden ser hechos o predicados que se deben cumplir para hacer verdadera la cabeza de la cláusula. Si una cláusula no tiene cuerpo, esta es un predicado, en caso contrario se llama una regla. En este ejemplos tenemos tres cláusulas con cuerpo, por lo tanto tenemos tres reglas. La primera regla dice que los valores de Ay B son iguales, el resultado G es el primero de ellos. La segunda regla indica que si la relación A <B  es verdadera, se obtiene un resultado intermedio B1 se computa restando a B el valor de A y se verifica el nuevo predicado:"
   ]
  },
  {
   "cell_type": "code",
   "execution_count": null,
   "metadata": {},
   "outputs": [],
   "source": [
    "gcd(A, B1, G)"
   ]
  },
  {
   "cell_type": "markdown",
   "metadata": {},
   "source": [
    "Esto significa que debe buscar cuál de las tres reglas de la definición es verdad con este nuevo predicado. La tercera regla, verifica si la relación  se cumple y si es así, verifica que el predicado:"
   ]
  },
  {
   "cell_type": "code",
   "execution_count": null,
   "metadata": {},
   "outputs": [],
   "source": [
    "gcd(B, A, G)"
   ]
  },
  {
   "cell_type": "markdown",
   "metadata": {},
   "source": [
    "Cómo se puede observar estas reglas no indican el orden que se deben evaluar,si una de las reglas es verdadera en todo su cuerpo hace que su conclusión sea verdadera.\n",
    "\n",
    "¿Qué pasa si hay más de una regla que se cumple? Simple, cada valor es válido. Esto establece una diferencia con la programación funcional donde sólo se puede obtener un único valor, en la programación lógica se puede tener múltiples resultados o ninguno. Esto es una gran diferencia con los otros tipos de programación.\n",
    "\n",
    "## Implementación del código principla del programa en Prolog\n",
    "\n",
    "En el siguiente código, se observa la parte que se comunica con el mundo exterior."
   ]
  },
  {
   "cell_type": "code",
   "execution_count": 2,
   "metadata": {},
   "outputs": [
    {
     "name": "stdout",
     "output_type": "stream",
     "text": []
    }
   ],
   "source": [
    "process :-\n",
    "    current_input(Input),\n",
    "    write(\"Enter three integer values separated by spaces: \"),\n",
    "    read_string(Input, \" \", \" \\r\\t\", _, Number1),\n",
    "    number_string(Number1_n,Number1),\n",
    "    read_string(Input, \" \", \" \\r\\t\", _, Number2),\n",
    "    number_string(Number2_n,Number2),\n",
    "    read_string(Input, \"\\n\", \" \\r\\t\", _, Number3),\n",
    "    number_string(Number3_n,Number3),\n",
    "    gcd(Number1_n, Number2_n,Tmp),\n",
    "    gcd(Number3_n, Tmp, Result),\n",
    "    number_string(Result,ResultStr),\n",
    "    write(\"The minimum size to cut is: \"),\n",
    "    write(ResultStr),nl."
   ]
  },
  {
   "cell_type": "markdown",
   "metadata": {},
   "source": [
    "Esta regla process no tiene variables, pero tiene un cuerpo que debe cumplir\n",
    "cada uno de los términos, mucho de esto términos que tiene que ver con la\n",
    "comunicación con el mundo exterior. Luce similar al programa en C++, debido\n",
    "a que su comportamiento es igual, pero la gran diferencia surgen en la evaluación, el sistema ejecutará cada uno de los términos y si uno de ellos no es verdadero para.\n",
    "\n",
    "El siguiente segmento de código es requerido para iniciar la ejecución bajo una de las implementaciones del lenguaje de programación prolog: SWI-Prolog. La primera línea, invoca el interpretador que ejecutará a SWI-Prolog, el siguiente es la regla que se validará de forma obligatoria en el momento que se cargue el interpretador de SWI-Prolog, indicando qué código se evaluará el predicado main."
   ]
  },
  {
   "cell_type": "code",
   "execution_count": null,
   "metadata": {},
   "outputs": [],
   "source": [
    "#!/usr/bin/swipl\n",
    "\n",
    ":- initialization(main, main).\n",
    "\n",
    "main(Argv) :-\n",
    "    process,\n",
    "    halt."
   ]
  },
  {
   "cell_type": "code",
   "execution_count": null,
   "metadata": {},
   "outputs": [],
   "source": []
  }
 ],
 "metadata": {
  "kernelspec": {
   "display_name": "SWI-Prolog",
   "language": "",
   "name": "jswipl"
  },
  "language_info": {
   "mimetype": "text/plain",
   "name": "swipl"
  }
 },
 "nbformat": 4,
 "nbformat_minor": 4
}
