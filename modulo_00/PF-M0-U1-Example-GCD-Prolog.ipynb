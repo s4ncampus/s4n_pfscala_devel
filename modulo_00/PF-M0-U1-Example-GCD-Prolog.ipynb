{
 "cells": [
  {
   "cell_type": "markdown",
   "metadata": {},
   "source": [
    "# Implementación en el paradigma lógico (El lenguaje de programación Prolog)\n",
    "Prolog es un lenguaje de propósito general, basado en la lógica de primer orden, es una lógica formal y un lenguaje declarativo lógico. Como lo hemos venido haciendo con los otros paradigmas, vamos a dividir nuestra explicación en dos secciones: la primera para la implementación del algoritmo de Euclides en Prolog y la segunda el uso de dicha función en la solución del problema.\n",
    "## Implementación del algoritmo de Euclides en Prolog\n",
    "El siguiente segmento de código muestra la implementación. Como puede observar esta definición está basada en el algoritmo de Euclides recursivo."
   ]
  },
  {
   "cell_type": "code",
   "execution_count": 1,
   "metadata": {},
   "outputs": [
    {
     "name": "stdout",
     "output_type": "stream",
     "text": []
    }
   ],
   "source": [
    "gcd(A,B,X) :- A = B, X = A.\n",
    "gcd(A,B,X) :- A > B, A1 is A - B, gcd(A1, B,  X).\n",
    "gcd(A,B,X) :- A < B, B1 is B - A, gcd(A,  B1, X)."
   ]
  },
  {
   "cell_type": "markdown",
   "metadata": {},
   "source": [
    "Aunque luce muy similar al declaración de la función en el lenguaje de programación Haskell. Existen varias diferencias. En primer lugar, gcd no es una función, es realidad una cláusula que tiene como tres variables, donde A y B son las variables de los valores obtener su máximo común divisor; X es la variable que contendrá el resultado final. Cada cláusula tiene dos partes: la cabeza y el cuerpo (este último es opcional). La cabeza incluye el nombre de la cláusula y sus parámetros (si los tiene). El cuerpo tiene una lista de términos que pueden ser hechos o predicados que se deben cumplir para hacer verdadera la cabeza de la cláusula. Si una cláusula no tiene cuerpo, esta es un predicado, en caso contrario se llama una regla. En este ejemplos tenemos tres cláusulas con cuerpo, por lo tanto tenemos tres reglas. La primera regla dice que los valores de A y B son iguales, el resultado X es el primero de ellos. La segunda regla indica que si la relación A > B  es verdadera, se obtiene un resultado intermedio A1, que se computa restando a A el valor de B y se verifica el nuevo predicado generado gcd(A1,B,X).\n",
    "La tercera regla, verifica si la relación A < B se cumple, si es así, se obtiene un resultado intermedio B1 que se computa restando a B el valor de A y se verifica el nuevo predicado genrado gcd(A,B1,X).\n",
    "\n",
    "Cómo se puede observar estas reglas no indican el orden que se deben evaluar,si una de las reglas es verdadera en todo su cuerpo hace que su conclusión sea verdadera.\n",
    "\n",
    "¿Qué pasa si hay más de una regla que se cumple? Simple, cada valor es válido. Esto establece una diferencia con la programación funcional donde sólo se puede obtener un único valor, en la programación lógica se puede tener múltiples resultados o ninguno. Esto es una gran diferencia con los otros tipos de programación.\n",
    "\n",
    "## Ejercicios\n",
    "\n",
    "1. Las reglas son hechos que pueden ser consultados y el lenguaje permite realizar las consultas de forma interactiva. Vamos a probar como funcionan las consultas con el lenguaje. La siguiente celda nos muestra como realizar un consulta. La consulta se realiza de forma un poco diferente si lo hicieramos directamente sobre una de las implementaciones más conocidas de Prolog (SWI-Prolog ó GNU-Prolog). El valor de X es hecho correspondere para que el predicado sea verdad."
   ]
  },
  {
   "cell_type": "code",
   "execution_count": 3,
   "metadata": {},
   "outputs": [
    {
     "name": "stdout",
     "output_type": "stream",
     "text": [
      "X = 8 ."
     ]
    }
   ],
   "source": [
    "?- gcd(24,8,X)."
   ]
  },
  {
   "cell_type": "markdown",
   "metadata": {},
   "source": [
    "2. Aunque nos parezca que la anterior consulta solo produjo un valor, Prolog es un lenguaje muy diferente a los lenguajes vistos anteriormente, por que una consulta puede producir muchos resultados diferentes, y esto hace que a diferencia con otros lenguajes que un función puede producir un resultado, una consulta puede producir 0 o más resultadodos. El siguiente código lo muestra:"
   ]
  },
  {
   "cell_type": "code",
   "execution_count": 6,
   "metadata": {},
   "outputs": [
    {
     "name": "stdout",
     "output_type": "stream",
     "text": []
    }
   ],
   "source": [
    "animal(cat).\n",
    "animal(tiger).\n",
    "animal(lion).\n",
    "animal(dog).\n",
    "animal(horse)."
   ]
  },
  {
   "cell_type": "markdown",
   "metadata": {},
   "source": [
    "Tenemos variables reglas que establece varios predicados que indican diferentes tipos de animales. Podemos realizar varios tipos de consultas. Pregunte por un animal no especificado en la lista original:"
   ]
  },
  {
   "cell_type": "code",
   "execution_count": 9,
   "metadata": {},
   "outputs": [
    {
     "name": "stdout",
     "output_type": "stream",
     "text": []
    }
   ],
   "source": [
    "?- animal(unicorn)"
   ]
  },
  {
   "cell_type": "markdown",
   "metadata": {},
   "source": [
    "Ahora pregunte por que animales hay registrados."
   ]
  },
  {
   "cell_type": "code",
   "execution_count": 11,
   "metadata": {},
   "outputs": [
    {
     "name": "stdout",
     "output_type": "stream",
     "text": [
      "Y = Variable(100) ;\n",
      "Y = cat ;\n",
      "Y = tiger ;\n",
      "Y = lion ;\n",
      "Y = dog ;\n",
      "Y = horse ."
     ]
    }
   ],
   "source": [
    "?- animal(Y)."
   ]
  },
  {
   "cell_type": "markdown",
   "metadata": {},
   "source": [
    "También se puede limitar el número de elementos que queremos buscar para ello al lado de la consulta entre llaves indicamos cuantos elementos queremos."
   ]
  },
  {
   "cell_type": "code",
   "execution_count": 12,
   "metadata": {},
   "outputs": [
    {
     "name": "stdout",
     "output_type": "stream",
     "text": [
      "Y = Variable(100) ;\n",
      "Y = cat ."
     ]
    }
   ],
   "source": [
    "?- animal(Y) {2}."
   ]
  },
  {
   "cell_type": "markdown",
   "metadata": {},
   "source": [
    "## Implementación del código principal del programa en Prolog\n",
    "\n",
    "El programa fue elaborado siguiendo En el siguiente código, se observa la parte que se comunica con el mundo exterior."
   ]
  },
  {
   "cell_type": "code",
   "execution_count": 13,
   "metadata": {},
   "outputs": [
    {
     "name": "stdout",
     "output_type": "stream",
     "text": []
    }
   ],
   "source": [
    "process :-\n",
    "    current_input(Input),\n",
    "    write(\"Enter three integer values separated by spaces: \"),\n",
    "    read_string(Input, \" \", \" \\r\\t\", _, Number1),\n",
    "    number_string(Number1_n,Number1),\n",
    "    read_string(Input, \" \", \" \\r\\t\", _, Number2),\n",
    "    number_string(Number2_n,Number2),\n",
    "    read_string(Input, \"\\n\", \" \\r\\t\", _, Number3),\n",
    "    number_string(Number3_n,Number3),\n",
    "    gcd(Number1_n, Number2_n,Tmp),\n",
    "    gcd(Number3_n, Tmp, Result),\n",
    "    number_string(Result,ResultStr),\n",
    "    write(\"The minimum size to cut is: \"),\n",
    "    write(ResultStr),nl."
   ]
  },
  {
   "cell_type": "markdown",
   "metadata": {},
   "source": [
    "Esta regla process no tiene variables, pero tiene un cuerpo que debe cumplir\n",
    "cada uno de los términos, mucho de esto términos que tiene que ver con la\n",
    "comunicación con el mundo exterior. Luce similar al programa en C++, debido\n",
    "a que su comportamiento es igual, pero la gran diferencia surgen en la evaluación, el sistema ejecutará cada uno de los términos y si uno de ellos no es verdadero para."
   ]
  }
 ],
 "metadata": {
  "kernelspec": {
   "display_name": "SWI-Prolog",
   "language": "",
   "name": "jswipl"
  },
  "language_info": {
   "mimetype": "text/plain",
   "name": "swipl"
  }
 },
 "nbformat": 4,
 "nbformat_minor": 4
}
