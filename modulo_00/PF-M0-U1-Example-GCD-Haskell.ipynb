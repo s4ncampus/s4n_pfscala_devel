{
 "cells": [
  {
   "cell_type": "markdown",
   "metadata": {},
   "source": [
    "# Implementación funcional (Haskell)\n",
    "\n",
    "Haskell es un lenguaje de programación funcional puro, estáticamente tipificado, concurrente y perezoso. Vamos a realizar la misma división, que realizamos anteriormente, vamos a separar la implementación del algoritmo de Euclides y la invocación del algoritmo desde la parte principal del programa.\n",
    "\n",
    "## Implementación del algoritmo de Euclides en Haskell\n",
    "    \n",
    "En los lenguajes funcionales puros como Haskell la definición de funciones se hace a través de la declaración por partes y la recursividad. La definición del algoritmo de Euclides se hace de la siguiente manera:"
   ]
  },
  {
   "cell_type": "code",
   "execution_count": 2,
   "metadata": {},
   "outputs": [],
   "source": [
    "gcd' :: Int -> Int -> Int\n",
    "gcd' a b\n",
    "  | a == b    = a\n",
    "  | a <  b    = gcd' a       (b - a)\n",
    "  | otherwise = gcd' (a - b) b"
   ]
  },
  {
   "cell_type": "markdown",
   "metadata": {},
   "source": [
    "Observe en primer lugar, que el nombre de la función gcd’ es muy diferente a los lenguajes de programación conocido, la comilla permite definir funciones de forma matemática: f, f', f'', etc. Esto lo hacemos dado que la biblioteca Prelude ya tiene definida una función gcd y la idea es mostrar una implementación. \n",
    "\n",
    "Volvamos a la definición de la función, la primera línea nos muestra la firma de la función, ésta indica que se reciben dos parámetros de tipo entero y se retorna un valor entero. La segunda línea nos muestra que se reciben dos parámetros nombrados a y b, luego viene lo que se conoce como un sistema de guardas esto si indica a través del símbolo |. El objetivo de una guarda es verificar varios predicados, el primer predicado es observar si a = b, en caso de ser verdad ya se tiene el valor el máximo común divisor que es el valor de a; el siguiente predicado es verificar si a < b, de ser cierto se invoca la función de máximo común divisor gcd’ con dos parámetros el valor de a y la diferencia entre b -a; la última guarda utiliza la palabra reservada otherwise para indicar que siempre es verdad (por eso es siempre la última guarda) y se invoca la función gcd’ pasando como primer parámetro la diferencia entre a -b y el segundo parámetro b.\n",
    "\n",
    "## Plan A\n",
    "\n",
    "### Preguntas y ejercicios\n",
    "\n",
    "1. Una de las características de las firmas de una función en Haskell, es que este un lenguaje para definir tipos y el símbolo es un operador ->, que como el operador de suma (+) tiene precedencia y asociatividad. En el caso de -> tiene una asociatividad por la derecha, lo que implica el orden de evaluación, es como si se utilizara paréntesis. De los tres esquemas de paréntesis cuál aplica a la firma de la función de gcd’.\n",
    "   a. ((Int -> Int) -> Int)\n",
    "   b. (Int -> Int -> Int)\n",
    "   c. (Int -> (Int -> Int))\n",
    "2. Mire la primera línea del código. ¿Cuál es el nombre de esa línea?\n",
    "   a. Definición.\n",
    "   b. Declaración.\n",
    "   c. Firma.\n",
    "   d. Invocación. \n",
    "3. Las declaraciones de funciones en Haskell pueden ser realizadas por partes como se observa en la definición anterior. La idea es que cada parte debe excluyentes entre ellas, por que la primera debe ser verdad de arriba hacia abajo, hace que se reemplace la regla por la parte derecha de la parte. ¿Qué significa la opción otherwise?\n",
    "   a. Nada\n",
    "   b. a >= b \n",
    "   c. True\n",
    "   d. False\n",
    "   e. Indefinido\n",
    "\n",
    "## Plan B\n",
    "\n",
    "### Preguntas y ejercicios\n",
    "\n",
    "1. Ejecute la celda anterior y ejecute el siguiente codigo reemplazando las variables a con 18 y b con 9, luego a con 18 y b con 6."
   ]
  },
  {
   "cell_type": "code",
   "execution_count": 3,
   "metadata": {},
   "outputs": [
    {
     "data": {
      "text/plain": [
       "0"
      ]
     },
     "metadata": {},
     "output_type": "display_data"
    }
   ],
   "source": [
    "let a = 0\n",
    "    b = 0\n",
    " in gcd' a b"
   ]
  },
  {
   "cell_type": "markdown",
   "metadata": {},
   "source": [
    "2. Observe bien el código anterior, las operaciones = que tenemos en la expresión let no son asignaciones como pudieran ocurrir en un lenguaje de programación imperativo, sino que cada operación igual es un enlace (en Inglés \n",
    "Binding), esto significa que el valor que a es ligado a ese valor y no puede ser cambiando internanmente. Ejecute el siguiente código y observe."
   ]
  },
  {
   "cell_type": "code",
   "execution_count": 4,
   "metadata": {},
   "outputs": [
    {
     "ename": "",
     "evalue": "",
     "output_type": "error",
     "traceback": [
      "<interactive>:1:5: error:\n    Conflicting definitions for ‘a’\n    Bound at: <interactive>:1:5\n              <interactive>:3:5"
     ]
    }
   ],
   "source": [
    "let a = 10\n",
    "    b = 20\n",
    "    a = b\n",
    " in a + b\n"
   ]
  },
  {
   "cell_type": "markdown",
   "metadata": {},
   "source": [
    "El código de a no puede ser vuelto a ser asignado por que en Haskell los valores son immutables.\n",
    "Ahora observe el siguiente código."
   ]
  },
  {
   "cell_type": "code",
   "execution_count": 5,
   "metadata": {},
   "outputs": [
    {
     "data": {
      "text/plain": [
       "40"
      ]
     },
     "metadata": {},
     "output_type": "display_data"
    }
   ],
   "source": [
    "let a = 10\n",
    " in let b = 20\n",
    "    in let a = b\n",
    "       in a + b"
   ]
  },
  {
   "cell_type": "markdown",
   "metadata": {},
   "source": [
    "3. ¿Qué paso aquí? Lo que pasa es algo que todos conocemos de casi todos los lenguajes de programación, independientes si son funcionales o imperativos y se llaman reglas de ámbito. De las siguientes respuestas cual es la más acertada para definir lo que pasó en el código anterior.\n",
    "   a. En la programación funcional pura los valores si puede ser modificados y el segundo let interno permite modificar un valor ocurrido en una parte exterior.\n",
    "   b. En la programación funcional lo que pasa es que el último in el valor de a es sustituido por el valor de b y por eso hace la suma de b (asignado 20) dos veces.\n",
    "   c. Cada in interno es un nuevo ámbito donde la variable a puede ser modificada.\n",
    "   d. Cada in interno es un nuevo ámbito donde los nombres de variables puede ser reutilizados, es decir el a interno es diferente del a externo\n",
    "   e. Es un truco interno de Haskell para engañar principantes."
   ]
  },
  {
   "cell_type": "markdown",
   "metadata": {},
   "source": [
    "## Implementación del código principal del programa en Haskell\n",
    "\n",
    "El siguiente fragmento de código muestra la implementación del cuerpo principal del programa en Haskell."
   ]
  },
  {
   "cell_type": "code",
   "execution_count": 10,
   "metadata": {},
   "outputs": [],
   "source": [
    "-- module Main where\n",
    "import System.IO(hGetLine,openFile,IOMode(..))\n",
    "\n",
    "gcd' :: Int -> Int -> Int\n",
    "gcd' a b\n",
    "  | a == b    = a\n",
    "  | a <  b    = gcd' a       (b - a)\n",
    "  | otherwise = gcd' (a - b) b\n",
    "\n",
    "readInts :: FilePath -> IO (Int,Int,Int)\n",
    "readInts fileName = do\n",
    "   h   <- openFile fileName ReadMode\n",
    "   str <- hGetLine h \n",
    "   let [s1,s2,s3] = words str\n",
    "   return (read s1, read s2, read s3)\n",
    "   \n",
    "main :: IO ()\n",
    "main = do\n",
    "   (a,b,c) <- readInts \"data01.in\"\n",
    "   putStrLn (\"The minimum size to cut is: \" ++ show ( gcd' c (gcd' a b)))"
   ]
  },
  {
   "cell_type": "code",
   "execution_count": 8,
   "metadata": {},
   "outputs": [
    {
     "data": {
      "text/plain": [
       "The minimum size to cut is: 5"
      ]
     },
     "metadata": {},
     "output_type": "display_data"
    }
   ],
   "source": [
    "main "
   ]
  },
  {
   "cell_type": "markdown",
   "metadata": {},
   "source": [
    "En Haskell las funciones que interactúan con el mundo exterior tiene como constructor IO y como valor de retorno que se indica después, en este caso () que indica que el valor es un valor de tipo void (semejante al void en Java, C ó C++). Se han definido dos funciones que interactúan con el mundo exterior, la primera readInts se encarga de obtener los tres valores de las longitudes de los segmentos a ser procesados, esta función interactúa con el mundo exterior (leyendo de un fichero)  y retorna una tupla con los tres valores leídos.\n",
    "\n",
    "Aunque el código sea semejante a un código imperativo en el cual las instrucciones se hacen en secuencia, esto es realmente una simulación de la interacción con el mundo exterior, el sistema de tipos de Haskell garantiza que la función siempre se evalúa en el tiempo obtiene los mismos resultados siempre (esto nos puede parecer extraño al principio, pero es la realidad). La segunda función main es la encargada de dar inicio al programa, es semejante en ejecución a la función main de nuestro programa en C++, pero es importante notar que debido al compromiso de no modificar el estado del programa este programa es diferente en algunas partes, como por ejemplo en la parte de la invocación de la función gcd’ que si observa bien los parámetros son tratados individualmente. Observe en la siguiente segmento de código:"
   ]
  },
  {
   "cell_type": "code",
   "execution_count": 41,
   "metadata": {},
   "outputs": [
    {
     "data": {
      "text/plain": [
       "3"
      ]
     },
     "metadata": {},
     "output_type": "display_data"
    }
   ],
   "source": [
    "let a = 12\n",
    "    b = 18\n",
    "    c = 9\n",
    " in gcd' c (gcd' a b)"
   ]
  },
  {
   "cell_type": "markdown",
   "metadata": {},
   "source": [
    "La primera función trabajo con dos parámetros, c y el resultado de la invocación de la función interna gcd’ que a su vez recibe dos parámetros a y b. \n",
    "\n",
    "## Plan A\n",
    "\n",
    "### Preguntas y ejercicios\n",
    "\n",
    "1. Este programa no tiene declaraciones como sucede con el programa en C++. Esto se debe a que un lenguaje como Haskell utiliza un mecanismo llamado inferencia de tipos. La función read es una función generica con esta firma: read :: (Read a) => String -> a, que lee de esta forma la variable de tipo a es un tipo de la clase (No hay clases en Haskell, aquí una clase significa una agrupación de elementos con funciones comunes) que se puede leer, que dado una cadena de caracteres lo convierte a cualquier tipo, el problema como sabemos a que tipo. Observe la firma de la función readInts :: FilePath -> (Int,Int,Int). Esta diciendo que de la ruta a un fichero -FilePath-(Muchos lo llama miga de pan) se obtiene tres enteros (Int), la función read sustituye esa a por Int y se obtiene un versión especifica read :: (Read Int) => String -> Int. Conociendo como cambiariamos la firma de la función para leer un entero al inicio y dos flotantes (solamente la firma tiene que ser cambiada).\n",
    "   a. readInts :: FilePath -> (Int,Int,Float)\n",
    "   b. readInts :: FilePath -> (Int,Int,Int)\n",
    "   c. readInts :: FilePath -> (Float,Float,Float)\n",
    "   d. readInts :: FilePath -> (Float,Int,Float)\n",
    "   e. readInts :: FilePath -> (Int,Float,Float)\n",
    "   \n",
    "Suponga que readInts fue cambiado para leer cuatro segmentos. La firma queda así: readInts2 :: FilePath -> (Int,Int,Int,Int). Y el cuerpo de código quedaría así: "
   ]
  },
  {
   "cell_type": "code",
   "execution_count": 16,
   "metadata": {},
   "outputs": [],
   "source": [
    "readInts2 :: FilePath -> IO (Int, Int, Int, Int)\n",
    "readInts2 = undefined"
   ]
  },
  {
   "cell_type": "code",
   "execution_count": 17,
   "metadata": {},
   "outputs": [
    {
     "ename": "",
     "evalue": "",
     "output_type": "error",
     "traceback": [
      "Prelude.undefined\nCallStack (from HasCallStack):\n  error, called at libraries/base/GHC/Err.hs:78:14 in base:GHC.Err\n  undefined, called at <interactive>:2:13 in interactive:Ghci292"
     ]
    }
   ],
   "source": [
    "(a,b,c,d) <- readInts2 \"data02.in\""
   ]
  },
  {
   "cell_type": "markdown",
   "metadata": {},
   "source": [
    "2. Como invocaría utilizaría la función gcd' para obtener el máximo común divisor de los 4 segmentos.\n",
    "    a. gcd' (gcd' a b) (gcd' c d)\n",
    "    b. gcd' a (gcd 'b (gcd' c d))\n",
    "    c. gcd' (gcd' (gcd' a b) c) d\n",
    "    d. gcd' (gcd' a (gcd ' b c)) d\n",
    "    e. Todos los anteriores\n",
    "\n",
    "## Plan B\n",
    "\n",
    "### Preguntas y ejercicios\n",
    "\n",
    "1. El siguiente código ha sido modificado para leer cuatro segmentos de un fichero llamado \"data02.in\", pero falta modificar el programa principal para que utilice los cuatro segmentos."
   ]
  },
  {
   "cell_type": "code",
   "execution_count": 12,
   "metadata": {},
   "outputs": [],
   "source": [
    "-- module Main where\n",
    "import System.IO(hGetLine,openFile,IOMode(..))\n",
    "\n",
    "gcd' :: Int -> Int -> Int\n",
    "gcd' a b\n",
    "  | a == b    = a\n",
    "  | a <  b    = gcd' a       (b - a)\n",
    "  | otherwise = gcd' (a - b) b\n",
    "\n",
    "readInts :: FilePath -> IO (Int,Int,Int,Int)\n",
    "readInts fileName = do\n",
    "   h   <- openFile fileName ReadMode\n",
    "   str <- hGetLine h \n",
    "   let [s1,s2,s3,s4] = words str\n",
    "   return (read s1, read s2, read s3, read s4)\n",
    "   \n",
    "main :: IO ()\n",
    "main = do\n",
    "   (a,b,c,d) <- readInts \"data02.in\"\n",
    "   putStrLn (\"The minimum size to cut is: \" ++ show ( gcd' c (gcd' a b)))"
   ]
  },
  {
   "cell_type": "code",
   "execution_count": null,
   "metadata": {},
   "outputs": [],
   "source": [
    "2. El siguiente código es una versión generalizada del problema de tres segmentos a n segmentos donde n > 1. Pero esta versión contiene un error, corrigalo de forma que sea capaz de resolver el problema del máximo común divisor para n > 1.\n",
    "\n",
    "**Nota**: La solución es reemplazar una línea. Observe bien que la función main a process y este cio. Haskell no puede tener ciclos, por lo que debe utilizar la recursividad para inovocar el siguiente valor. Si observa es el trabajo de cio, pero esto no esta calculado el valor "
   ]
  },
  {
   "cell_type": "code",
   "execution_count": null,
   "metadata": {},
   "outputs": [],
   "source": [
    "module Main where\n",
    "\n",
    "import System.IO(hPutStrLn,stdout,stdin,stderr,\n",
    "                 hFlush,hGetLine,\n",
    "                 hPutStr,openFile,IOMode(..),FilePath,Handle)\n",
    "import System.IO.Error(IOError(..),catchIOError)\n",
    "import System.Exit(exitSuccess,exitFailure)\n",
    "import System.Environment(getArgs)\n",
    "\n",
    "gcd' :: Int -> Int -> Int\n",
    "gcd' a b\n",
    "  | a ==  b   = a\n",
    "  | a <   b   = gcd' a       (b - a)\n",
    "  | otherwise = gcd' (a - b) b\n",
    "\n",
    "readInt :: Handle -> IO Int\n",
    "readInt h = do\n",
    " str <- hGetLine h\n",
    " return (read str)\n",
    "\n",
    "readFirst :: Handle -> IO Int\n",
    "readFirst h = do\n",
    "  a <- readInt h\n",
    "  return a\n",
    "\n",
    "cio :: Handle -> Int -> IO ()\n",
    "cio h g = catchIOError\n",
    "  (readNxtSeg h g)\n",
    "  (\\e -> do {hPutStrLn stdout (\"gcd is: \" ++ (show g)); exitSuccess})\n",
    "\n",
    "readNxtSeg :: Handle -> Int -> IO ()\n",
    "readNxtSeg h g = do\n",
    "  a <- readInt h\n",
    "  cio h a\n",
    "\n",
    "process :: FilePath -> IO ()\n",
    "process fp = do\n",
    "  h <- openFile fp ReadMode\n",
    "  g <- (catchIOError (readFirst h)\n",
    "        (\\e -> do {exitSuccess; return 0}))\n",
    "  cio h g\n",
    "\n",
    "main :: IO ()\n",
    "main = do\n",
    "  let fileName = \"data03.in\"\n",
    "  catchIOError (process fileName)\n",
    "               (\\e -> do {hPutStrLn stderr (\"cannot open file: \" ++ fileName); exitFailure})"
   ]
  },
  {
   "cell_type": "markdown",
   "metadata": {},
   "source": [
    "Para ejecutar simplemente ejecute la siguiente celda. Puede cambiar el fichero con los siguientes nombres de ficheros: \"data03.in\" (esta invocación retorna 12), \"data04.in\" (esta invocación retorna 5)."
   ]
  },
  {
   "cell_type": "code",
   "execution_count": 11,
   "metadata": {},
   "outputs": [
    {
     "ename": "",
     "evalue": "",
     "output_type": "error",
     "traceback": [
      "ExitSuccess"
     ]
    }
   ],
   "source": [
    "main"
   ]
  },
  {
   "cell_type": "code",
   "execution_count": null,
   "metadata": {},
   "outputs": [],
   "source": []
  }
 ],
 "metadata": {
  "kernelspec": {
   "display_name": "Haskell",
   "language": "haskell",
   "name": "haskell"
  },
  "language_info": {
   "codemirror_mode": "ihaskell",
   "file_extension": ".hs",
   "mimetype": "text/x-haskell",
   "name": "haskell",
   "pygments_lexer": "Haskell",
   "version": "8.6.5"
  }
 },
 "nbformat": 4,
 "nbformat_minor": 4
}
